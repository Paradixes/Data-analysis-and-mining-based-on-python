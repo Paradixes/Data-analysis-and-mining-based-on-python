{
 "cells": [
  {
   "cell_type": "code",
   "execution_count": 3,
   "metadata": {},
   "outputs": [],
   "source": [
    "import numpy as np\n",
    "from numpy import *\n",
    "from os import listdir\n",
    "import operator"
   ]
  },
  {
   "cell_type": "code",
   "execution_count": 4,
   "metadata": {},
   "outputs": [],
   "source": [
    "#32*32的二进制图像矩阵转换为1*1024的向量\n",
    "def img2vect(filename):\n",
    "    returnVect = np.zeros((1,1024))\n",
    "    fr = open(filename)\n",
    "    for i in range (32):\n",
    "        lineStr = fr.readline()\n",
    "        for j in range(32):\n",
    "            returnVect[0,32 * i + j] = int(lineStr[j])\n",
    "    return returnVect"
   ]
  },
  {
   "cell_type": "code",
   "execution_count": 32,
   "metadata": {},
   "outputs": [],
   "source": [
    "def load_trainingData():\n",
    "    hwLabels = []\n",
    "    trainingFileList = listdir('data/testDigits/')\n",
    "    m = len(trainingFileList)\n",
    "    trainingMat = zeros((m,1024))\n",
    "    for i in range(m):\n",
    "        fileNameStr = trainingFileList[i]\n",
    "        fileStr = fileNameStr.split('.')[0]\n",
    "        classNumStr = int(fileStr.split('_')[0])\n",
    "        hwLabels.append(classNumStr)\n",
    "        trainingMat[i,:] = img2vect('data/testDigits/%s' % fileNameStr)\n",
    "    return trainingMat,hwLabels"
   ]
  },
  {
   "cell_type": "code",
   "execution_count": 33,
   "metadata": {},
   "outputs": [],
   "source": [
    "def load_testData():\n",
    "    testFileList = listdir('data/trainingDigits/')\n",
    "    goldLabels = []\n",
    "    mTest = len(testFileList)\n",
    "    testMat = zeros((mTest,1024))\n",
    "    for i in range(mTest):\n",
    "        fileNameStr = testFileList[i]\n",
    "        fileStr = fileNameStr.split('.')[0]\n",
    "        classNumStr = int(fileStr.split('_')[0])\n",
    "        goldLabels.append(classNumStr)\n",
    "        testMat[i,:] = img2vect('data/trainingDigits/%s' % fileNameStr)\n",
    "    return testMat,goldLabels"
   ]
  },
  {
   "cell_type": "code",
   "execution_count": 1,
   "metadata": {},
   "outputs": [],
   "source": [
    "from sklearn.neighbors import KNeighborsClassifier\n",
    "from sklearn.svm import SVC\n",
    "from sklearn.tree import DecisionTreeClassifier\n",
    "\n",
    "from sklearn.naive_bayes import GaussianNB\n",
    "from sklearn.naive_bayes import MultinomialNB\n",
    "from sklearn.naive_bayes import BernoulliNB"
   ]
  },
  {
   "cell_type": "code",
   "execution_count": 23,
   "metadata": {},
   "outputs": [],
   "source": [
    "def handwritingClassTest():\n",
    "    trainingMat,hwLabels = load_trainingData()\n",
    "    testMat,goldLabels = load_testData()\n",
    "    mTest = len(testMat)\n",
    "    \n",
    "    ensemble = [\"kNN\",\"SVC\",\"DT\",\"GaussianNB\",\"MultinomialNB\",\"BernoulliNB\"]\n",
    "    for a in ensemble:\n",
    "        classifierResult = []\n",
    "        print(a + \":\")\n",
    "        if a == \"kNN\": clf = KNeighborsClassifier(algorithm='kd_tree',n_neighbors = 3)\n",
    "        if a == \"SVC\": clf = SVC(C=1.0,kernel='linear')\n",
    "        if a == \"DT\": clf = DecisionTreeClassifier(criterion='entropy',random_state=0)\n",
    "        if a == \"GaussianNB\": clf = GaussianNB()\n",
    "        if a == \"MultinomialNB\": clf = MultinomialNB()\n",
    "        if a == \"BernoulliNB\": clf = BernoulliNB()\n",
    "          \n",
    "        clf.fit(trainingMat,hwLabels)\n",
    "        classifierResult = clf.predict(testMat)\n",
    "        \n",
    "        errorCount = 0.0\n",
    "        for i in range(mTest):\n",
    "            if classifierResult[i] != goldLabels[i]:\n",
    "                errorCount += 1.0\n",
    "        print(\"%2.2f%%\" %((1-errorCount/float(mTest))*100))"
   ]
  },
  {
   "cell_type": "code",
   "execution_count": 34,
   "metadata": {},
   "outputs": [
    {
     "name": "stdout",
     "output_type": "stream",
     "text": [
      "kNN:\n",
      "90.92%\n",
      "SVC:\n",
      "93.26%\n",
      "DT:\n",
      "72.63%\n",
      "GaussianNB:\n",
      "73.03%\n",
      "MultinomialNB:\n",
      "86.45%\n",
      "BernoulliNB:\n",
      "88.05%\n"
     ]
    }
   ],
   "source": [
    "handwritingClassTest()"
   ]
  }
 ],
 "metadata": {
  "kernelspec": {
   "display_name": "Python 3",
   "language": "python",
   "name": "python3"
  },
  "language_info": {
   "codemirror_mode": {
    "name": "ipython",
    "version": 3
   },
   "file_extension": ".py",
   "mimetype": "text/x-python",
   "name": "python",
   "nbconvert_exporter": "python",
   "pygments_lexer": "ipython3",
   "version": "3.7.1"
  }
 },
 "nbformat": 4,
 "nbformat_minor": 2
}
