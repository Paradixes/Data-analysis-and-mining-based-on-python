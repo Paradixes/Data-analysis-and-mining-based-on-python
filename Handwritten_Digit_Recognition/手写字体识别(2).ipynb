{
 "cells": [
  {
   "cell_type": "code",
   "execution_count": 58,
   "metadata": {},
   "outputs": [],
   "source": [
    "import numpy as np\n",
    "import operator\n",
    "\n",
    "def createTrainDataSet():\n",
    "    traindataset = np.array([[1.0,1.1],[1.0,1.0],[0,0],[0,0.1]])\n",
    "    labels = ['A','A','B','B']\n",
    "    return traindataset,labels"
   ]
  },
  {
   "cell_type": "code",
   "execution_count": 30,
   "metadata": {},
   "outputs": [],
   "source": [
    "#计算输入测试数据inx和已知样本的距离，并返回类别标签\n",
    "def kNN(newInput,dataSet,labels,k):\n",
    "    dataSetSize = dataSet.shape[0]\n",
    "    diff = np.tile(newInput,(dataSetSize,1)) - dataSet\n",
    "    squaredDiff = abs(diff) ** 0.5\n",
    "    squaredDist = np.sum(squaredDiff,axis = 1)\n",
    "    distances = squaredDist ** 0.5\n",
    "    \n",
    "    sortedDisIndicies = distances.argsort()\n",
    "    \n",
    "    classCount = {}\n",
    "    for i in range(k):\n",
    "        votellabel = labels[sortedDisIndicies[i]]\n",
    "        classCount[votellabel] = classCount.get(votellabel,0) + 1\n",
    "    \n",
    "    sortedClassCount = sorted(classCount.items(),key=operator.itemgetter(1),reverse=True)\n",
    "    return sortedClassCount[0][0]"
   ]
  },
  {
   "cell_type": "code",
   "execution_count": 56,
   "metadata": {},
   "outputs": [],
   "source": [
    "#32*32的二进制图像矩阵转换为1*1024的向量\n",
    "def img2vect(filename):\n",
    "    returnVect = np.zeros((1,1024))\n",
    "    fr = open(filename)\n",
    "    for i in range (32):\n",
    "        lineStr = fr.readline()\n",
    "        for j in range(32):\n",
    "            returnVect[0,32 * i + j] = int(lineStr[j])\n",
    "    return returnVect"
   ]
  },
  {
   "cell_type": "code",
   "execution_count": 61,
   "metadata": {},
   "outputs": [],
   "source": [
    "from os import listdir"
   ]
  },
  {
   "cell_type": "code",
   "execution_count": 55,
   "metadata": {},
   "outputs": [],
   "source": [
    "#手写数字识别系统的测试代码\n",
    "def handwritingClassTest(k):\n",
    "    hwLabels = []\n",
    "    trainingFileList = listdir('data/trainingDigits/')\n",
    "    m = len(trainingFileList)\n",
    "    trainingMat = np.zeros((m,1024))\n",
    "    for i in range(m):\n",
    "        fileNameStr = trainingFileList[i]\n",
    "        fileStr = fileNameStr.split('.')[0]\n",
    "        classNumStr = int(fileStr.split('_')[0])\n",
    "        hwLabels.append(classNumStr)\n",
    "        trainingMat[i,:] = img2vect('data/trainingDigits/%s' % fileNameStr)\n",
    "        \n",
    "    testFileList = listdir('data/testDigits/')\n",
    "    errorCount = 0.0\n",
    "    mTest = len(testFileList)\n",
    "    for i in range(mTest):\n",
    "        fileNameStr = testFileList[i]\n",
    "        fileStr = fileNameStr.split('.')[0]\n",
    "        classNumStr = int(fileStr.split('_')[0])\n",
    "        vectorUnderTest = img2vect('data/testDigits/%s' % fileNameStr)\n",
    "        classifierResult = kNN(vectorUnderTest, trainingMat, hwLabels, k)\n",
    "        if(classifierResult != classNumStr): \n",
    "            errorCount += 1.0\n",
    "    #print(\"\\n 测试样本个数为：%d\" % mTest)\n",
    "    #print(\" 预测错误个数为：%d\" % errorCount)\n",
    "    #print(\" 预测错误率为：%2.2f%%\" % (errorCount/float(mTest)*100.0))\n",
    "    print(\" k = %d, 预测准确率为：%2.2f%%\" % (k,((1-errorCount/float(mTest))*100.0)))"
   ]
  },
  {
   "cell_type": "code",
   "execution_count": 34,
   "metadata": {},
   "outputs": [
    {
     "name": "stdout",
     "output_type": "stream",
     "text": [
      " k = 3, 预测准确率为：91.19%\n",
      " k = 4, 预测准确率为：91.66%\n",
      " k = 5, 预测准确率为：90.45%\n",
      " k = 6, 预测准确率为：90.59%\n",
      " k = 7, 预测准确率为：89.85%\n",
      " k = 8, 预测准确率为：90.12%\n",
      " k = 9, 预测准确率为：89.79%\n",
      " k = 10, 预测准确率为：89.79%\n",
      " k = 11, 预测准确率为：89.32%\n",
      " k = 12, 预测准确率为：89.59%\n",
      " k = 13, 预测准确率为：89.45%\n",
      " k = 14, 预测准确率为：89.12%\n",
      " k = 15, 预测准确率为：88.92%\n",
      " k = 16, 预测准确率为：88.99%\n",
      " k = 17, 预测准确率为：88.79%\n",
      " k = 18, 预测准确率为：88.72%\n",
      " k = 19, 预测准确率为：88.05%\n",
      " k = 20, 预测准确率为：87.92%\n"
     ]
    }
   ],
   "source": [
    "for i in range (3,21):\n",
    "    handwritingClassTest(i)"
   ]
  },
  {
   "cell_type": "code",
   "execution_count": 37,
   "metadata": {},
   "outputs": [
    {
     "name": "stdout",
     "output_type": "stream",
     "text": [
      " k = 3 \t 预测准确率为：98.62%\n",
      " k = 4 \t 预测准确率为：98.39%\n",
      " k = 5 \t 预测准确率为：97.93%\n",
      " k = 6 \t 预测准确率为：98.39%\n",
      " k = 7 \t 预测准确率为：97.93%\n",
      " k = 8 \t 预测准确率为：98.16%\n",
      " k = 9 \t 预测准确率为：97.70%\n",
      " k = 10 \t 预测准确率为：98.16%\n",
      " k = 11 \t 预测准确率为：97.70%\n",
      " k = 12 \t 预测准确率为：97.93%\n",
      " k = 13 \t 预测准确率为：97.70%\n",
      " k = 14 \t 预测准确率为：97.24%\n",
      " k = 15 \t 预测准确率为：97.00%\n",
      " k = 16 \t 预测准确率为：97.24%\n",
      " k = 17 \t 预测准确率为：97.24%\n",
      " k = 18 \t 预测准确率为：97.47%\n",
      " k = 19 \t 预测准确率为：97.24%\n",
      " k = 20 \t 预测准确率为：97.24%\n"
     ]
    }
   ],
   "source": [
    "for i in range (3,21):\n",
    "    handwritingClassTest(i)"
   ]
  },
  {
   "cell_type": "code",
   "execution_count": 39,
   "metadata": {},
   "outputs": [
    {
     "name": "stdout",
     "output_type": "stream",
     "text": [
      " k = 3, 预测准确率为：98.93%\n",
      " k = 4, 预测准确率为：99.07%\n",
      " k = 5, 预测准确率为：98.40%\n",
      " k = 6, 预测准确率为：98.80%\n",
      " k = 7, 预测准确率为：98.06%\n",
      " k = 8, 预测准确率为：98.26%\n",
      " k = 9, 预测准确率为：97.66%\n",
      " k = 10, 预测准确率为：97.93%\n",
      " k = 11, 预测准确率为：97.53%\n",
      " k = 12, 预测准确率为：97.60%\n",
      " k = 13, 预测准确率为：97.13%\n",
      " k = 14, 预测准确率为：97.20%\n",
      " k = 15, 预测准确率为：97.06%\n",
      " k = 16, 预测准确率为：97.06%\n",
      " k = 17, 预测准确率为：96.86%\n",
      " k = 18, 预测准确率为：96.73%\n",
      " k = 19, 预测准确率为：96.66%\n",
      " k = 20, 预测准确率为：96.80%\n"
     ]
    }
   ],
   "source": [
    "for i in range (3,21):\n",
    "    handwritingClassTest(i)"
   ]
  },
  {
   "cell_type": "code",
   "execution_count": 67,
   "metadata": {},
   "outputs": [],
   "source": [
    "#手写数字识别系统的测试代码\n",
    "def handwritingClassTest2():\n",
    "    hwLabels = []\n",
    "    trainingFileList = listdir('data/TT/')\n",
    "    m = len(trainingFileList)\n",
    "    trainingMat = np.zeros((m,1024))\n",
    "    for i in range(m):\n",
    "        fileNameStr = trainingFileList[i]\n",
    "        fileStr = fileNameStr.split('.')[0]\n",
    "        classNumStr = int(fileStr.split('_')[0])\n",
    "        hwLabels.append(classNumStr)\n",
    "        trainingMat[i,:] = img2vect('data/testDigits/%s' % fileNameStr)\n",
    "        \n",
    "    testFileList = listdir('data/testDigits/')\n",
    "    errorCount = 0.0\n",
    "    mTest = len(testFileList)\n",
    "    for i in range(mTest):\n",
    "        fileNameStr = testFileList[i]\n",
    "        fileStr = fileNameStr.split('.')[0]\n",
    "        classNumStr = int(fileStr.split('_')[0])\n",
    "        vectorUnderTest = img2vect('data/trainingDigits/%s' % fileNameStr)\n",
    "        CR1 = kNN(vectorUnderTest, trainingMat, hwLabels, 3)\n",
    "        CR2 = kNN(vectorUnderTest, trainingMat, hwLabels, 4)\n",
    "        CR3 = kNN(vectorUnderTest, trainingMat, hwLabels, 6)\n",
    "        if(CR1 != CR2 or CR1 != CR3 or CR2 != CR3):\n",
    "            if(CR1 == CR2):\n",
    "                classifierResult = CR1\n",
    "            if(CR1 == CR3):\n",
    "                classifierResult = CR1\n",
    "            if(CR2 == CR3):\n",
    "                classifierResult = CR2\n",
    "            else:\n",
    "                classifierResult = CR2\n",
    "        else:\n",
    "            classifierResult = CR1\n",
    "        if(classifierResult != classNumStr): \n",
    "            errorCount += 1.0\n",
    "    print(\"\\n 测试样本个数为：%d\" % mTest)\n",
    "    print(\" 预测错误个数为：%d\" % errorCount)\n",
    "    print(\" 预测错误率为：%2.2f%%\" % (errorCount/float(mTest)*100.0))\n",
    "    print(\" 预测准确率为：%2.2f%%\" % (((1-errorCount/float(mTest))*100.0)))"
   ]
  },
  {
   "cell_type": "code",
   "execution_count": 68,
   "metadata": {},
   "outputs": [
    {
     "ename": "FileNotFoundError",
     "evalue": "[Errno 2] No such file or directory: 'data/testDigits/0_0.txt'",
     "traceback": [
      "\u001b[1;31m---------------------------------------------------------------------------\u001b[0m",
      "\u001b[1;31mFileNotFoundError\u001b[0m                         Traceback (most recent call last)",
      "\u001b[1;32m<ipython-input-68-19eaf5ddaced>\u001b[0m in \u001b[0;36m<module>\u001b[1;34m\u001b[0m\n\u001b[1;32m----> 1\u001b[1;33m \u001b[0mhandwritingClassTest2\u001b[0m\u001b[1;33m(\u001b[0m\u001b[1;33m)\u001b[0m\u001b[1;33m\u001b[0m\u001b[1;33m\u001b[0m\u001b[0m\n\u001b[0m",
      "\u001b[1;32m<ipython-input-67-9f358c2659df>\u001b[0m in \u001b[0;36mhandwritingClassTest2\u001b[1;34m()\u001b[0m\n\u001b[0;32m     10\u001b[0m         \u001b[0mclassNumStr\u001b[0m \u001b[1;33m=\u001b[0m \u001b[0mint\u001b[0m\u001b[1;33m(\u001b[0m\u001b[0mfileStr\u001b[0m\u001b[1;33m.\u001b[0m\u001b[0msplit\u001b[0m\u001b[1;33m(\u001b[0m\u001b[1;34m'_'\u001b[0m\u001b[1;33m)\u001b[0m\u001b[1;33m[\u001b[0m\u001b[1;36m0\u001b[0m\u001b[1;33m]\u001b[0m\u001b[1;33m)\u001b[0m\u001b[1;33m\u001b[0m\u001b[1;33m\u001b[0m\u001b[0m\n\u001b[0;32m     11\u001b[0m         \u001b[0mhwLabels\u001b[0m\u001b[1;33m.\u001b[0m\u001b[0mappend\u001b[0m\u001b[1;33m(\u001b[0m\u001b[0mclassNumStr\u001b[0m\u001b[1;33m)\u001b[0m\u001b[1;33m\u001b[0m\u001b[1;33m\u001b[0m\u001b[0m\n\u001b[1;32m---> 12\u001b[1;33m         \u001b[0mtrainingMat\u001b[0m\u001b[1;33m[\u001b[0m\u001b[0mi\u001b[0m\u001b[1;33m,\u001b[0m\u001b[1;33m:\u001b[0m\u001b[1;33m]\u001b[0m \u001b[1;33m=\u001b[0m \u001b[0mimg2vect\u001b[0m\u001b[1;33m(\u001b[0m\u001b[1;34m'data/testDigits/%s'\u001b[0m \u001b[1;33m%\u001b[0m \u001b[0mfileNameStr\u001b[0m\u001b[1;33m)\u001b[0m\u001b[1;33m\u001b[0m\u001b[1;33m\u001b[0m\u001b[0m\n\u001b[0m\u001b[0;32m     13\u001b[0m \u001b[1;33m\u001b[0m\u001b[0m\n\u001b[0;32m     14\u001b[0m     \u001b[0mtestFileList\u001b[0m \u001b[1;33m=\u001b[0m \u001b[0mlistdir\u001b[0m\u001b[1;33m(\u001b[0m\u001b[1;34m'data/testDigits/'\u001b[0m\u001b[1;33m)\u001b[0m\u001b[1;33m\u001b[0m\u001b[1;33m\u001b[0m\u001b[0m\n",
      "\u001b[1;32m<ipython-input-56-32c5686a7937>\u001b[0m in \u001b[0;36mimg2vect\u001b[1;34m(filename)\u001b[0m\n\u001b[0;32m      2\u001b[0m \u001b[1;32mdef\u001b[0m \u001b[0mimg2vect\u001b[0m\u001b[1;33m(\u001b[0m\u001b[0mfilename\u001b[0m\u001b[1;33m)\u001b[0m\u001b[1;33m:\u001b[0m\u001b[1;33m\u001b[0m\u001b[1;33m\u001b[0m\u001b[0m\n\u001b[0;32m      3\u001b[0m     \u001b[0mreturnVect\u001b[0m \u001b[1;33m=\u001b[0m \u001b[0mnp\u001b[0m\u001b[1;33m.\u001b[0m\u001b[0mzeros\u001b[0m\u001b[1;33m(\u001b[0m\u001b[1;33m(\u001b[0m\u001b[1;36m1\u001b[0m\u001b[1;33m,\u001b[0m\u001b[1;36m1024\u001b[0m\u001b[1;33m)\u001b[0m\u001b[1;33m)\u001b[0m\u001b[1;33m\u001b[0m\u001b[1;33m\u001b[0m\u001b[0m\n\u001b[1;32m----> 4\u001b[1;33m     \u001b[0mfr\u001b[0m \u001b[1;33m=\u001b[0m \u001b[0mopen\u001b[0m\u001b[1;33m(\u001b[0m\u001b[0mfilename\u001b[0m\u001b[1;33m)\u001b[0m\u001b[1;33m\u001b[0m\u001b[1;33m\u001b[0m\u001b[0m\n\u001b[0m\u001b[0;32m      5\u001b[0m     \u001b[1;32mfor\u001b[0m \u001b[0mi\u001b[0m \u001b[1;32min\u001b[0m \u001b[0mrange\u001b[0m \u001b[1;33m(\u001b[0m\u001b[1;36m32\u001b[0m\u001b[1;33m)\u001b[0m\u001b[1;33m:\u001b[0m\u001b[1;33m\u001b[0m\u001b[1;33m\u001b[0m\u001b[0m\n\u001b[0;32m      6\u001b[0m         \u001b[0mlineStr\u001b[0m \u001b[1;33m=\u001b[0m \u001b[0mfr\u001b[0m\u001b[1;33m.\u001b[0m\u001b[0mreadline\u001b[0m\u001b[1;33m(\u001b[0m\u001b[1;33m)\u001b[0m\u001b[1;33m\u001b[0m\u001b[1;33m\u001b[0m\u001b[0m\n",
      "\u001b[1;31mFileNotFoundError\u001b[0m: [Errno 2] No such file or directory: 'data/testDigits/0_0.txt'"
     ],
     "output_type": "error"
    }
   ],
   "source": [
    "handwritingClassTest2()"
   ]
  }
 ],
 "metadata": {
  "kernelspec": {
   "display_name": "Python 3",
   "language": "python",
   "name": "python3"
  },
  "language_info": {
   "codemirror_mode": {
    "name": "ipython",
    "version": 3
   },
   "file_extension": ".py",
   "mimetype": "text/x-python",
   "name": "python",
   "nbconvert_exporter": "python",
   "pygments_lexer": "ipython3",
   "version": "3.7.1"
  }
 },
 "nbformat": 4,
 "nbformat_minor": 2
}
