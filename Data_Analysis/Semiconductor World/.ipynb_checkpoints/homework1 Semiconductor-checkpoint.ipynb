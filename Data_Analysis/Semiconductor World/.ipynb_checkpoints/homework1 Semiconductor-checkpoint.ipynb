{
 "cells": [
  {
   "cell_type": "code",
   "execution_count": null,
   "metadata": {},
   "outputs": [],
   "source": [
    "import pandas as pd\n",
    "import numpy as np\n",
    "from pandas_datareader import data\n",
    "import pandas_datareader as pdr\n",
    "\n",
    "%matplotlib inline\n",
    "import matplotlib.pyplot as plt\n",
    "\n",
    "import math\n",
    "\n",
    "#INTEL = pdr.get_data_yahoo('INTC')\n",
    "#INTEL.to_csv('INTEL.csv')\n",
    "INTEL = pd.read_csv('INTEL.csv',index_col='Date')\n",
    "INTEL.index = pd.to_datetime(INTEL.index)\n",
    "\n",
    "#NVIDIA = pdr.get_data_yahoo('NVDA')\n",
    "#NVIDIA.to_csv('NVIDIA.csv')\n",
    "NVIDIA = pd.read_csv('NVIDIA.csv',index_col='Date')\n",
    "NVIDIA.index = pd.to_datetime(NVIDIA.index)\n",
    "\n",
    "#AMD = pdr.get_data_yahoo('AMD')\n",
    "#AMD.to_csv('AMD.csv')\n",
    "AMD = pd.read_csv('AMD.csv',index_col='Date')\n",
    "AMD.index = pd.to_datetime(AMD.index)\n",
    "\n",
    "#TI = pdr.get_data_yahoo('TXN')\n",
    "#TI.to_csv('TI.csv')\n",
    "TI = pd.read_csv('TI.csv',index_col='Date')\n",
    "TI.index = pd.to_datetime(TI.index)\n",
    "\n",
    "#CYPRESS = pdr.get_data_yahoo('CY')\n",
    "#CYPRESS.to_csv('CYPRESS.csv')\n",
    "CYPRESS = pd.read_csv('CYPRESS.csv',index_col='Date')\n",
    "CYPRESS.index = pd.to_datetime(CYPRESS.index)\n",
    "\n",
    "#QUALCOMM = pdr.get_data_yahoo('QCOM')\n",
    "#QUALCOMM.to_csv('QUALCOMM.csv')\n",
    "QUALCOMM = pd.read_csv('QUALCOMM.csv',index_col='Date')\n",
    "QUALCOMM.index = pd.to_datetime(QUALCOMM.index)\n"
   ]
  },
  {
   "cell_type": "code",
   "execution_count": null,
   "metadata": {},
   "outputs": [],
   "source": [
    "SemiCond_list = [INTEL,NVIDIA,AMD,TI,CYPRESS,QUALCOMM]\n",
    "SemiCond_name = ['INTEL','NVIDIA','AMD','TI','CYPRESS','QUALCOMM']\n",
    "for j in  range (5):\n",
    "    #概览股价\n",
    "    plt.rc('figure',figsize=(12,6))  \n",
    "    SemiCond_list[j][['High','Low','Open','Close','Adj Close']].plot.line()\n",
    "    plt.title(SemiCond_name[j]+' Profile')\n",
    "    plt.savefig(SemiCond_name[j]+\"Basic Chart.png\")\n",
    "    \n",
    "    #波动率变化\n",
    "    df = pd.DataFrame(SemiCond_list[j]['Adj Close'])\n",
    "    df.columns = [SemiCond_name[j]]\n",
    "    df['Return'] = 0.0\n",
    "    for i in range(1,len(df)):\n",
    "        df['Return'][i] = np.log(df[SemiCond_name[j]][i] / df[SemiCond_name[j]][i-1])\n",
    "    \n",
    "    #移动平均值\n",
    "    df['42d'] = df[SemiCond_name[j]].rolling(window=42,center=False).mean()\n",
    "    df['252d'] = df[SemiCond_name[j]].rolling(window=252,center=False).mean()\n",
    "    df[[SemiCond_name[j],'42d','252d']].plot(figsize=(8,5))\n",
    "    plt.title(SemiCond_name[j]+' Moving average')\n",
    "    plt.savefig(SemiCond_name[j]+\"Moving average.png\")\n",
    "    \n",
    "    #移动历时标准差\n",
    "    df['Mov_Vol'] = df['Return'].rolling(window=252,center=False).mean() * math.sqrt(252)\n",
    "    df[[SemiCond_name[j],'Mov_Vol','Return']].plot(subplots=True,style=['b','g','r'],figsize=(8,8))\n",
    "    plt.title(SemiCond_name[j]+' Moving standard deviations')\n",
    "    plt.savefig(SemiCond_name[j]+\"Moving standard deviations\")\n",
    "    \n",
    "    SemiCond_describe = SemiCond_list[j].describe()\n",
    "    SemiCond_describe.to_csv(SemiCond_name[j]+\" describe.csv\")\n"
   ]
  },
  {
   "cell_type": "code",
   "execution_count": 5,
   "metadata": {},
   "outputs": [
    {
     "ename": "NameError",
     "evalue": "name 'Baidu' is not defined",
     "output_type": "error",
     "traceback": [
      "\u001b[1;31m---------------------------------------------------------------------------\u001b[0m",
      "\u001b[1;31mNameError\u001b[0m                                 Traceback (most recent call last)",
      "\u001b[1;32m<ipython-input-5-c365ddd1f2b8>\u001b[0m in \u001b[0;36m<module>\u001b[1;34m\u001b[0m\n\u001b[1;32m----> 1\u001b[1;33m \u001b[0mAC\u001b[0m \u001b[1;33m=\u001b[0m \u001b[0mpd\u001b[0m\u001b[1;33m.\u001b[0m\u001b[0mDataFrame\u001b[0m\u001b[1;33m(\u001b[0m\u001b[0mBaidu\u001b[0m\u001b[1;33m[\u001b[0m\u001b[1;34m'Adj Close'\u001b[0m\u001b[1;33m]\u001b[0m\u001b[1;33m)\u001b[0m\u001b[1;33m\u001b[0m\u001b[1;33m\u001b[0m\u001b[0m\n\u001b[0m\u001b[0;32m      2\u001b[0m \u001b[0mAC\u001b[0m\u001b[1;33m.\u001b[0m\u001b[0mcolumns\u001b[0m \u001b[1;33m=\u001b[0m \u001b[1;33m[\u001b[0m\u001b[1;34m'Baidu'\u001b[0m\u001b[1;33m]\u001b[0m\u001b[1;33m\u001b[0m\u001b[1;33m\u001b[0m\u001b[0m\n\u001b[0;32m      3\u001b[0m \u001b[0mAC\u001b[0m\u001b[1;33m[\u001b[0m\u001b[1;34m'Jingdong'\u001b[0m\u001b[1;33m]\u001b[0m \u001b[1;33m=\u001b[0m \u001b[0mJingdong\u001b[0m\u001b[1;33m[\u001b[0m\u001b[1;34m'Adj Close'\u001b[0m\u001b[1;33m]\u001b[0m\u001b[1;33m\u001b[0m\u001b[1;33m\u001b[0m\u001b[0m\n\u001b[0;32m      4\u001b[0m \u001b[0mAC\u001b[0m\u001b[1;33m[\u001b[0m\u001b[1;34m'Wangyi'\u001b[0m\u001b[1;33m]\u001b[0m \u001b[1;33m=\u001b[0m \u001b[0mWangyi\u001b[0m\u001b[1;33m[\u001b[0m\u001b[1;34m'Adj Close'\u001b[0m\u001b[1;33m]\u001b[0m\u001b[1;33m\u001b[0m\u001b[1;33m\u001b[0m\u001b[0m\n\u001b[0;32m      5\u001b[0m \u001b[0mAC\u001b[0m\u001b[1;33m[\u001b[0m\u001b[1;34m'Ali'\u001b[0m\u001b[1;33m]\u001b[0m \u001b[1;33m=\u001b[0m \u001b[0mAli\u001b[0m\u001b[1;33m[\u001b[0m\u001b[1;34m'Adj Close'\u001b[0m\u001b[1;33m]\u001b[0m\u001b[1;33m\u001b[0m\u001b[1;33m\u001b[0m\u001b[0m\n",
      "\u001b[1;31mNameError\u001b[0m: name 'Baidu' is not defined"
     ]
    }
   ],
   "source": [
    "AC = pd.DataFrame(INTEL['Adj Close'])\n",
    "AC.columns = ['INTEL']\n",
    "AC['NVIDIA'] = NVIDIA['Adj Close']\n",
    "AC['AMD'] = AMD['Adj Close']\n",
    "AC['TI'] = TI['Adj Close']\n",
    "AC['CYPRESS'] = CYPRESS['Adj Close']\n",
    "AC['QUALCOMM'] = QUALCOMM['Adj Close']\n",
    "#AC.to_csv(\"Adj collect.csv\")\n"
   ]
  },
  {
   "cell_type": "code",
   "execution_count": 6,
   "metadata": {},
   "outputs": [
    {
     "ename": "NameError",
     "evalue": "name 'AC' is not defined",
     "output_type": "error",
     "traceback": [
      "\u001b[1;31m---------------------------------------------------------------------------\u001b[0m",
      "\u001b[1;31mNameError\u001b[0m                                 Traceback (most recent call last)",
      "\u001b[1;32m<ipython-input-6-16de7dca4df8>\u001b[0m in \u001b[0;36m<module>\u001b[1;34m\u001b[0m\n\u001b[1;32m----> 1\u001b[1;33m \u001b[0mACC\u001b[0m \u001b[1;33m=\u001b[0m \u001b[0mAC\u001b[0m\u001b[1;33m.\u001b[0m\u001b[0mcorr\u001b[0m\u001b[1;33m(\u001b[0m\u001b[1;33m)\u001b[0m\u001b[1;33m\u001b[0m\u001b[1;33m\u001b[0m\u001b[0m\n\u001b[0m\u001b[0;32m      2\u001b[0m \u001b[0mACC\u001b[0m\u001b[1;33m.\u001b[0m\u001b[0mto_csv\u001b[0m\u001b[1;33m(\u001b[0m\u001b[1;34m\"Adj corr.csv\"\u001b[0m\u001b[1;33m)\u001b[0m\u001b[1;33m\u001b[0m\u001b[1;33m\u001b[0m\u001b[0m\n\u001b[0;32m      3\u001b[0m \u001b[0mAC\u001b[0m\u001b[1;33m.\u001b[0m\u001b[0mcorr\u001b[0m\u001b[1;33m(\u001b[0m\u001b[1;33m)\u001b[0m\u001b[1;33m\u001b[0m\u001b[1;33m\u001b[0m\u001b[0m\n",
      "\u001b[1;31mNameError\u001b[0m: name 'AC' is not defined"
     ]
    }
   ],
   "source": [
    "ACC = AC.corr()\n",
    "ACC.to_csv(\"Adj corr.csv\")\n",
    "AC.corr()"
   ]
  },
  {
   "cell_type": "code",
   "execution_count": 7,
   "metadata": {},
   "outputs": [
    {
     "ename": "NameError",
     "evalue": "name 'AC' is not defined",
     "output_type": "error",
     "traceback": [
      "\u001b[1;31m---------------------------------------------------------------------------\u001b[0m",
      "\u001b[1;31mNameError\u001b[0m                                 Traceback (most recent call last)",
      "\u001b[1;32m<ipython-input-7-7239d4a2b6e6>\u001b[0m in \u001b[0;36m<module>\u001b[1;34m\u001b[0m\n\u001b[1;32m----> 1\u001b[1;33m \u001b[0mACD\u001b[0m \u001b[1;33m=\u001b[0m \u001b[0mAC\u001b[0m\u001b[1;33m.\u001b[0m\u001b[0mdescribe\u001b[0m\u001b[1;33m(\u001b[0m\u001b[1;33m)\u001b[0m\u001b[1;33m\u001b[0m\u001b[1;33m\u001b[0m\u001b[0m\n\u001b[0m\u001b[0;32m      2\u001b[0m \u001b[0mACD\u001b[0m\u001b[1;33m.\u001b[0m\u001b[0mto_csv\u001b[0m\u001b[1;33m(\u001b[0m\u001b[1;34m\"Adj describe.csv\"\u001b[0m\u001b[1;33m)\u001b[0m\u001b[1;33m\u001b[0m\u001b[1;33m\u001b[0m\u001b[0m\n\u001b[0;32m      3\u001b[0m \u001b[0mAC\u001b[0m\u001b[1;33m.\u001b[0m\u001b[0mdescribe\u001b[0m\u001b[1;33m(\u001b[0m\u001b[1;33m)\u001b[0m\u001b[1;33m\u001b[0m\u001b[1;33m\u001b[0m\u001b[0m\n",
      "\u001b[1;31mNameError\u001b[0m: name 'AC' is not defined"
     ]
    }
   ],
   "source": [
    "ACD = AC.describe()\n",
    "ACD.to_csv(\"Adj describe.csv\")\n",
    "AC.describe()"
   ]
  },
  {
   "cell_type": "code",
   "execution_count": null,
   "metadata": {},
   "outputs": [],
   "source": [
    "plt.rc('figure',figsize=(12,6))\n",
    "AC[['INTEL','NVIDIA','AMD','TI','CYPRESS','QUALCOMM']].plot.line()\n",
    "plt.title(\"Adj close collection\")\n",
    "plt.savefig(\"Adj close collection\")"
   ]
  }
 ],
 "metadata": {
  "kernelspec": {
   "display_name": "Python 3",
   "language": "python",
   "name": "python3"
  },
  "language_info": {
   "codemirror_mode": {
    "name": "ipython",
    "version": 3
   },
   "file_extension": ".py",
   "mimetype": "text/x-python",
   "name": "python",
   "nbconvert_exporter": "python",
   "pygments_lexer": "ipython3",
   "version": "3.7.1"
  }
 },
 "nbformat": 4,
 "nbformat_minor": 2
}
